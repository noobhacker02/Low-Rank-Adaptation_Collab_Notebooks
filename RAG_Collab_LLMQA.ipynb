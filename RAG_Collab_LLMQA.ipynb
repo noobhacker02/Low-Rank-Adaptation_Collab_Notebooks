{
 "cells": [
  {
   "cell_type": "code",
   "execution_count": 1,
   "metadata": {
    "id": "XEocf6BXHaBG"
   },
   "outputs": [],
   "source": [
    "# Cell 1: A Clean and Simple Installation\n",
    "!pip install -q -U \"sentence-transformers\" \"faiss-cpu\" \"pymupdf\" \"langchain\" \"google-generativeai\" \"ipywidgets\"\n"
   ]
  },
  {
   "cell_type": "code",
   "execution_count": 2,
   "metadata": {
    "colab": {
     "base_uri": "https://localhost:8080/"
    },
    "id": "chf5-pVuJToP",
    "outputId": "84ec60f3-76d7-4b82-8d34-cc694c77301e"
   },
   "outputs": [
    {
     "name": "stdout",
     "output_type": "stream",
     "text": [
      "✅ All libraries installed and imported successfully!\n"
     ]
    }
   ],
   "source": [
    "import os\n",
    "import numpy as np\n",
    "import faiss\n",
    "import google.generativeai as genai\n",
    "import fitz  # PyMuPDF\n",
    "from google.colab import files, userdata\n",
    "from sentence_transformers import SentenceTransformer\n",
    "from langchain.text_splitter import RecursiveCharacterTextSplitter\n",
    "import ipywidgets as widgets\n",
    "from IPython.display import display, clear_output\n",
    "\n",
    "print(\"✅ All libraries installed and imported successfully!\")"
   ]
  },
  {
   "cell_type": "code",
   "execution_count": 3,
   "metadata": {
    "colab": {
     "base_uri": "https://localhost:8080/",
     "height": 1000
    },
    "id": "0YuzzZUJJ3y5",
    "outputId": "a03bddce-1be3-428e-9c88-ee7c3493164d"
   },
   "outputs": [
    {
     "name": "stdout",
     "output_type": "stream",
     "text": [
      "--- Available Models ---\n",
      "✅ Model Name: models/gemini-2.5-pro-preview-03-25\n",
      "   Supported Methods: ['generateContent', 'countTokens', 'createCachedContent', 'batchGenerateContent']\n",
      "\n",
      "✅ Model Name: models/gemini-2.5-flash-preview-05-20\n",
      "   Supported Methods: ['generateContent', 'countTokens', 'createCachedContent', 'batchGenerateContent']\n",
      "\n",
      "✅ Model Name: models/gemini-2.5-flash\n",
      "   Supported Methods: ['generateContent', 'countTokens', 'createCachedContent', 'batchGenerateContent']\n",
      "\n",
      "✅ Model Name: models/gemini-2.5-flash-lite-preview-06-17\n",
      "   Supported Methods: ['generateContent', 'countTokens', 'createCachedContent', 'batchGenerateContent']\n",
      "\n",
      "✅ Model Name: models/gemini-2.5-pro-preview-05-06\n",
      "   Supported Methods: ['generateContent', 'countTokens', 'createCachedContent', 'batchGenerateContent']\n",
      "\n",
      "✅ Model Name: models/gemini-2.5-pro-preview-06-05\n",
      "   Supported Methods: ['generateContent', 'countTokens', 'createCachedContent', 'batchGenerateContent']\n",
      "\n",
      "✅ Model Name: models/gemini-2.5-pro\n",
      "   Supported Methods: ['generateContent', 'countTokens', 'createCachedContent', 'batchGenerateContent']\n",
      "\n",
      "✅ Model Name: models/gemini-2.0-flash-exp\n",
      "   Supported Methods: ['generateContent', 'countTokens', 'bidiGenerateContent']\n",
      "\n",
      "✅ Model Name: models/gemini-2.0-flash\n",
      "   Supported Methods: ['generateContent', 'countTokens', 'createCachedContent', 'batchGenerateContent']\n",
      "\n",
      "✅ Model Name: models/gemini-2.0-flash-001\n",
      "   Supported Methods: ['generateContent', 'countTokens', 'createCachedContent', 'batchGenerateContent']\n",
      "\n",
      "✅ Model Name: models/gemini-2.0-flash-exp-image-generation\n",
      "   Supported Methods: ['generateContent', 'countTokens', 'bidiGenerateContent']\n",
      "\n",
      "✅ Model Name: models/gemini-2.0-flash-lite-001\n",
      "   Supported Methods: ['generateContent', 'countTokens', 'createCachedContent', 'batchGenerateContent']\n",
      "\n",
      "✅ Model Name: models/gemini-2.0-flash-lite\n",
      "   Supported Methods: ['generateContent', 'countTokens', 'createCachedContent', 'batchGenerateContent']\n",
      "\n",
      "✅ Model Name: models/gemini-2.0-flash-preview-image-generation\n",
      "   Supported Methods: ['generateContent', 'countTokens', 'batchGenerateContent']\n",
      "\n",
      "✅ Model Name: models/gemini-2.0-flash-lite-preview-02-05\n",
      "   Supported Methods: ['generateContent', 'countTokens', 'createCachedContent', 'batchGenerateContent']\n",
      "\n",
      "✅ Model Name: models/gemini-2.0-flash-lite-preview\n",
      "   Supported Methods: ['generateContent', 'countTokens', 'createCachedContent', 'batchGenerateContent']\n",
      "\n",
      "✅ Model Name: models/gemini-2.0-pro-exp\n",
      "   Supported Methods: ['generateContent', 'countTokens', 'createCachedContent', 'batchGenerateContent']\n",
      "\n",
      "✅ Model Name: models/gemini-2.0-pro-exp-02-05\n",
      "   Supported Methods: ['generateContent', 'countTokens', 'createCachedContent', 'batchGenerateContent']\n",
      "\n",
      "✅ Model Name: models/gemini-exp-1206\n",
      "   Supported Methods: ['generateContent', 'countTokens', 'createCachedContent', 'batchGenerateContent']\n",
      "\n",
      "✅ Model Name: models/gemini-2.0-flash-thinking-exp-01-21\n",
      "   Supported Methods: ['generateContent', 'countTokens', 'createCachedContent', 'batchGenerateContent']\n",
      "\n",
      "✅ Model Name: models/gemini-2.0-flash-thinking-exp\n",
      "   Supported Methods: ['generateContent', 'countTokens', 'createCachedContent', 'batchGenerateContent']\n",
      "\n",
      "✅ Model Name: models/gemini-2.0-flash-thinking-exp-1219\n",
      "   Supported Methods: ['generateContent', 'countTokens', 'createCachedContent', 'batchGenerateContent']\n",
      "\n",
      "✅ Model Name: models/gemini-2.5-flash-preview-tts\n",
      "   Supported Methods: ['countTokens', 'generateContent']\n",
      "\n",
      "✅ Model Name: models/gemini-2.5-pro-preview-tts\n",
      "   Supported Methods: ['countTokens', 'generateContent']\n",
      "\n",
      "✅ Model Name: models/learnlm-2.0-flash-experimental\n",
      "   Supported Methods: ['generateContent', 'countTokens']\n",
      "\n",
      "✅ Model Name: models/gemma-3-1b-it\n",
      "   Supported Methods: ['generateContent', 'countTokens']\n",
      "\n",
      "✅ Model Name: models/gemma-3-4b-it\n",
      "   Supported Methods: ['generateContent', 'countTokens']\n",
      "\n",
      "✅ Model Name: models/gemma-3-12b-it\n",
      "   Supported Methods: ['generateContent', 'countTokens']\n",
      "\n",
      "✅ Model Name: models/gemma-3-27b-it\n",
      "   Supported Methods: ['generateContent', 'countTokens']\n",
      "\n",
      "✅ Model Name: models/gemma-3n-e4b-it\n",
      "   Supported Methods: ['generateContent', 'countTokens']\n",
      "\n",
      "✅ Model Name: models/gemma-3n-e2b-it\n",
      "   Supported Methods: ['generateContent', 'countTokens']\n",
      "\n",
      "✅ Model Name: models/gemini-flash-latest\n",
      "   Supported Methods: ['generateContent', 'countTokens', 'createCachedContent', 'batchGenerateContent']\n",
      "\n",
      "✅ Model Name: models/gemini-flash-lite-latest\n",
      "   Supported Methods: ['generateContent', 'countTokens', 'createCachedContent', 'batchGenerateContent']\n",
      "\n",
      "✅ Model Name: models/gemini-pro-latest\n",
      "   Supported Methods: ['generateContent', 'countTokens', 'createCachedContent', 'batchGenerateContent']\n",
      "\n",
      "✅ Model Name: models/gemini-2.5-flash-lite\n",
      "   Supported Methods: ['generateContent', 'countTokens', 'createCachedContent', 'batchGenerateContent']\n",
      "\n",
      "✅ Model Name: models/gemini-2.5-flash-image-preview\n",
      "   Supported Methods: ['generateContent', 'countTokens']\n",
      "\n",
      "✅ Model Name: models/gemini-2.5-flash-preview-09-2025\n",
      "   Supported Methods: ['generateContent', 'countTokens', 'createCachedContent', 'batchGenerateContent']\n",
      "\n",
      "✅ Model Name: models/gemini-2.5-flash-lite-preview-09-2025\n",
      "   Supported Methods: ['generateContent', 'countTokens', 'createCachedContent', 'batchGenerateContent']\n",
      "\n",
      "✅ Model Name: models/gemini-robotics-er-1.5-preview\n",
      "   Supported Methods: ['generateContent', 'countTokens']\n",
      "\n"
     ]
    }
   ],
   "source": [
    "import google.generativeai as genai\n",
    "from google.colab import userdata\n",
    "\n",
    "# Make sure your API key is configured\n",
    "try:\n",
    "    genai.configure(api_key=userdata.get('GOOGLE_API_KEY'))\n",
    "except userdata.SecretNotFoundError:\n",
    "    print(\"🛑 Error: 'GOOGLE_API_KEY' not found in Colab secrets.\")\n",
    "except Exception as e:\n",
    "    print(f\"An error occurred: {e}\")\n",
    "\n",
    "print(\"--- Available Models ---\")\n",
    "\n",
    "# List all available models\n",
    "for model in genai.list_models():\n",
    "  # Check if the 'generateContent' method is supported\n",
    "  if 'generateContent' in model.supported_generation_methods:\n",
    "    print(f\"✅ Model Name: {model.name}\")\n",
    "    print(f\"   Supported Methods: {model.supported_generation_methods}\\n\")"
   ]
  },
  {
   "cell_type": "code",
   "execution_count": 4,
   "metadata": {
    "colab": {
     "base_uri": "https://localhost:8080/"
    },
    "id": "IJM0Jf67byzM",
    "outputId": "74cd1726-4d97-4f95-8e7d-667b4cbbad01"
   },
   "outputs": [
    {
     "name": "stdout",
     "output_type": "stream",
     "text": [
      "🔑 API Key configured successfully!\n"
     ]
    }
   ],
   "source": [
    "# Cell 2: API Key Configuration (Updated with 'latest' model)\n",
    "try:\n",
    "    GOOGLE_API_KEY = userdata.get('GOOGLE_API_KEY')\n",
    "    genai.configure(api_key=GOOGLE_API_KEY)\n",
    "    print(\"🔑 API Key configured successfully!\")\n",
    "\n",
    "    # Use the latest stable Flash model\n",
    "    model_gen = genai.GenerativeModel('gemini-flash-latest')\n",
    "\n",
    "except userdata.SecretNotFoundError:\n",
    "    print(\"🛑 Error: 'GOOGLE_API_KEY' not found. Please follow the instructions to add it to Colab secrets.\")\n",
    "except Exception as e:\n",
    "    print(f\"An error occurred: {e}\")"
   ]
  },
  {
   "cell_type": "code",
   "execution_count": 5,
   "metadata": {
    "colab": {
     "base_uri": "https://localhost:8080/",
     "height": 301,
     "referenced_widgets": [
      "c59e2d010e954a5d9b9e882f17d3a31f",
      "987431f9361b4b95a751a0cdc8799ee2",
      "c51ccf4cd7b042048ce06e57d417f765",
      "939df460d533499ca90058b27fbadb3b",
      "de758db56279491483f24d81eb6aa50b",
      "944add01686b420ba1b94bd644502eb5",
      "e6fa24ac49b445ddbc1c0c08e7006d32",
      "6947b6678bb443bf8e96e0620219e775",
      "c5be2bd5a57d45a99c946cb7c929ca59",
      "66a4ce6632ad400da5c6c1817086ceb0",
      "b4fc949dad234920b9ec811e38b6e87f"
     ]
    },
    "id": "aLq_Sh98MFQu",
    "outputId": "23cb7d8a-74f9-4780-dcde-87e4060db760"
   },
   "outputs": [
    {
     "name": "stderr",
     "output_type": "stream",
     "text": [
      "/usr/local/lib/python3.12/dist-packages/huggingface_hub/utils/_auth.py:94: UserWarning: \n",
      "The secret `HF_TOKEN` does not exist in your Colab secrets.\n",
      "To authenticate with the Hugging Face Hub, create a token in your settings tab (https://huggingface.co/settings/tokens), set it as secret in your Google Colab and restart your session.\n",
      "You will be able to reuse this secret in all of your notebooks.\n",
      "Please note that authentication is recommended but still optional to access public models or datasets.\n",
      "  warnings.warn(\n"
     ]
    },
    {
     "name": "stdout",
     "output_type": "stream",
     "text": [
      "Please upload your PDF file.\n"
     ]
    },
    {
     "data": {
      "text/html": [
       "\n",
       "     <input type=\"file\" id=\"files-7422c5d8-a1c1-4309-8b02-e0036bce7e09\" name=\"files[]\" multiple disabled\n",
       "        style=\"border:none\" />\n",
       "     <output id=\"result-7422c5d8-a1c1-4309-8b02-e0036bce7e09\">\n",
       "      Upload widget is only available when the cell has been executed in the\n",
       "      current browser session. Please rerun this cell to enable.\n",
       "      </output>\n",
       "      <script>// Copyright 2017 Google LLC\n",
       "//\n",
       "// Licensed under the Apache License, Version 2.0 (the \"License\");\n",
       "// you may not use this file except in compliance with the License.\n",
       "// You may obtain a copy of the License at\n",
       "//\n",
       "//      http://www.apache.org/licenses/LICENSE-2.0\n",
       "//\n",
       "// Unless required by applicable law or agreed to in writing, software\n",
       "// distributed under the License is distributed on an \"AS IS\" BASIS,\n",
       "// WITHOUT WARRANTIES OR CONDITIONS OF ANY KIND, either express or implied.\n",
       "// See the License for the specific language governing permissions and\n",
       "// limitations under the License.\n",
       "\n",
       "/**\n",
       " * @fileoverview Helpers for google.colab Python module.\n",
       " */\n",
       "(function(scope) {\n",
       "function span(text, styleAttributes = {}) {\n",
       "  const element = document.createElement('span');\n",
       "  element.textContent = text;\n",
       "  for (const key of Object.keys(styleAttributes)) {\n",
       "    element.style[key] = styleAttributes[key];\n",
       "  }\n",
       "  return element;\n",
       "}\n",
       "\n",
       "// Max number of bytes which will be uploaded at a time.\n",
       "const MAX_PAYLOAD_SIZE = 100 * 1024;\n",
       "\n",
       "function _uploadFiles(inputId, outputId) {\n",
       "  const steps = uploadFilesStep(inputId, outputId);\n",
       "  const outputElement = document.getElementById(outputId);\n",
       "  // Cache steps on the outputElement to make it available for the next call\n",
       "  // to uploadFilesContinue from Python.\n",
       "  outputElement.steps = steps;\n",
       "\n",
       "  return _uploadFilesContinue(outputId);\n",
       "}\n",
       "\n",
       "// This is roughly an async generator (not supported in the browser yet),\n",
       "// where there are multiple asynchronous steps and the Python side is going\n",
       "// to poll for completion of each step.\n",
       "// This uses a Promise to block the python side on completion of each step,\n",
       "// then passes the result of the previous step as the input to the next step.\n",
       "function _uploadFilesContinue(outputId) {\n",
       "  const outputElement = document.getElementById(outputId);\n",
       "  const steps = outputElement.steps;\n",
       "\n",
       "  const next = steps.next(outputElement.lastPromiseValue);\n",
       "  return Promise.resolve(next.value.promise).then((value) => {\n",
       "    // Cache the last promise value to make it available to the next\n",
       "    // step of the generator.\n",
       "    outputElement.lastPromiseValue = value;\n",
       "    return next.value.response;\n",
       "  });\n",
       "}\n",
       "\n",
       "/**\n",
       " * Generator function which is called between each async step of the upload\n",
       " * process.\n",
       " * @param {string} inputId Element ID of the input file picker element.\n",
       " * @param {string} outputId Element ID of the output display.\n",
       " * @return {!Iterable<!Object>} Iterable of next steps.\n",
       " */\n",
       "function* uploadFilesStep(inputId, outputId) {\n",
       "  const inputElement = document.getElementById(inputId);\n",
       "  inputElement.disabled = false;\n",
       "\n",
       "  const outputElement = document.getElementById(outputId);\n",
       "  outputElement.innerHTML = '';\n",
       "\n",
       "  const pickedPromise = new Promise((resolve) => {\n",
       "    inputElement.addEventListener('change', (e) => {\n",
       "      resolve(e.target.files);\n",
       "    });\n",
       "  });\n",
       "\n",
       "  const cancel = document.createElement('button');\n",
       "  inputElement.parentElement.appendChild(cancel);\n",
       "  cancel.textContent = 'Cancel upload';\n",
       "  const cancelPromise = new Promise((resolve) => {\n",
       "    cancel.onclick = () => {\n",
       "      resolve(null);\n",
       "    };\n",
       "  });\n",
       "\n",
       "  // Wait for the user to pick the files.\n",
       "  const files = yield {\n",
       "    promise: Promise.race([pickedPromise, cancelPromise]),\n",
       "    response: {\n",
       "      action: 'starting',\n",
       "    }\n",
       "  };\n",
       "\n",
       "  cancel.remove();\n",
       "\n",
       "  // Disable the input element since further picks are not allowed.\n",
       "  inputElement.disabled = true;\n",
       "\n",
       "  if (!files) {\n",
       "    return {\n",
       "      response: {\n",
       "        action: 'complete',\n",
       "      }\n",
       "    };\n",
       "  }\n",
       "\n",
       "  for (const file of files) {\n",
       "    const li = document.createElement('li');\n",
       "    li.append(span(file.name, {fontWeight: 'bold'}));\n",
       "    li.append(span(\n",
       "        `(${file.type || 'n/a'}) - ${file.size} bytes, ` +\n",
       "        `last modified: ${\n",
       "            file.lastModifiedDate ? file.lastModifiedDate.toLocaleDateString() :\n",
       "                                    'n/a'} - `));\n",
       "    const percent = span('0% done');\n",
       "    li.appendChild(percent);\n",
       "\n",
       "    outputElement.appendChild(li);\n",
       "\n",
       "    const fileDataPromise = new Promise((resolve) => {\n",
       "      const reader = new FileReader();\n",
       "      reader.onload = (e) => {\n",
       "        resolve(e.target.result);\n",
       "      };\n",
       "      reader.readAsArrayBuffer(file);\n",
       "    });\n",
       "    // Wait for the data to be ready.\n",
       "    let fileData = yield {\n",
       "      promise: fileDataPromise,\n",
       "      response: {\n",
       "        action: 'continue',\n",
       "      }\n",
       "    };\n",
       "\n",
       "    // Use a chunked sending to avoid message size limits. See b/62115660.\n",
       "    let position = 0;\n",
       "    do {\n",
       "      const length = Math.min(fileData.byteLength - position, MAX_PAYLOAD_SIZE);\n",
       "      const chunk = new Uint8Array(fileData, position, length);\n",
       "      position += length;\n",
       "\n",
       "      const base64 = btoa(String.fromCharCode.apply(null, chunk));\n",
       "      yield {\n",
       "        response: {\n",
       "          action: 'append',\n",
       "          file: file.name,\n",
       "          data: base64,\n",
       "        },\n",
       "      };\n",
       "\n",
       "      let percentDone = fileData.byteLength === 0 ?\n",
       "          100 :\n",
       "          Math.round((position / fileData.byteLength) * 100);\n",
       "      percent.textContent = `${percentDone}% done`;\n",
       "\n",
       "    } while (position < fileData.byteLength);\n",
       "  }\n",
       "\n",
       "  // All done.\n",
       "  yield {\n",
       "    response: {\n",
       "      action: 'complete',\n",
       "    }\n",
       "  };\n",
       "}\n",
       "\n",
       "scope.google = scope.google || {};\n",
       "scope.google.colab = scope.google.colab || {};\n",
       "scope.google.colab._files = {\n",
       "  _uploadFiles,\n",
       "  _uploadFilesContinue,\n",
       "};\n",
       "})(self);\n",
       "</script> "
      ],
      "text/plain": [
       "<IPython.core.display.HTML object>"
      ]
     },
     "metadata": {},
     "output_type": "display_data"
    },
    {
     "name": "stdout",
     "output_type": "stream",
     "text": [
      "Saving Surrounded by Idiots - Thomas Erikson.pdf to Surrounded by Idiots - Thomas Erikson (2).pdf\n",
      "\n",
      "📄 Processing 'Surrounded by Idiots - Thomas Erikson (2).pdf'...\n",
      "   - Extracted 452288 characters.\n",
      "   - Split into 502 chunks.\n"
     ]
    },
    {
     "data": {
      "application/vnd.jupyter.widget-view+json": {
       "model_id": "c59e2d010e954a5d9b9e882f17d3a31f",
       "version_major": 2,
       "version_minor": 0
      },
      "text/plain": [
       "Batches:   0%|          | 0/16 [00:00<?, ?it/s]"
      ]
     },
     "metadata": {},
     "output_type": "display_data"
    },
    {
     "name": "stdout",
     "output_type": "stream",
     "text": [
      "✅ Index created successfully. You can now chat with the document below.\n"
     ]
    }
   ],
   "source": [
    "# Cell 3: Upload and Process PDF (Corrected)\n",
    "\n",
    "# --- Global Variables ---\n",
    "text_chunks = []\n",
    "faiss_index = None\n",
    "# Corrected the model name below\n",
    "embedding_model = SentenceTransformer('all-MiniLM-L6-v2')\n",
    "d = embedding_model.get_sentence_embedding_dimension()\n",
    "\n",
    "# --- Upload and Process Logic ---\n",
    "print(\"Please upload your PDF file.\")\n",
    "uploaded = files.upload()\n",
    "\n",
    "if not uploaded:\n",
    "    print(\"\\nNo file uploaded. Please run the cell again.\")\n",
    "else:\n",
    "    file_name = next(iter(uploaded))\n",
    "    print(f\"\\n📄 Processing '{file_name}'...\")\n",
    "\n",
    "    # 1. Extract text from PDF\n",
    "    doc = fitz.open(file_name)\n",
    "    full_text = \"\".join(page.get_text() for page in doc)\n",
    "    doc.close()\n",
    "    print(f\"   - Extracted {len(full_text)} characters.\")\n",
    "\n",
    "    # 2. Split text into chunks\n",
    "    text_splitter = RecursiveCharacterTextSplitter(chunk_size=1000, chunk_overlap=100)\n",
    "    text_chunks = text_splitter.split_text(full_text)\n",
    "    print(f\"   - Split into {len(text_chunks)} chunks.\")\n",
    "\n",
    "    # 3. Create embeddings and FAISS index\n",
    "    embeddings = embedding_model.encode(text_chunks, show_progress_bar=True)\n",
    "    faiss_index = faiss.IndexFlatL2(d)\n",
    "    faiss_index.add(np.array(embeddings).astype('float32'))\n",
    "    print(\"✅ Index created successfully. You can now chat with the document below.\")"
   ]
  },
  {
   "cell_type": "code",
   "execution_count": 6,
   "metadata": {
    "id": "Tknni-u7RJ5l"
   },
   "outputs": [],
   "source": [
    "from google.colab import output\n",
    "output.enable_custom_widget_manager()"
   ]
  },
  {
   "cell_type": "code",
   "execution_count": 7,
   "metadata": {
    "id": "NzcsDoDxRJ5q"
   },
   "outputs": [],
   "source": [
    "from google.colab import output\n",
    "output.disable_custom_widget_manager()"
   ]
  },
  {
   "cell_type": "code",
   "execution_count": 8,
   "metadata": {
    "colab": {
     "base_uri": "https://localhost:8080/",
     "height": 228
    },
    "id": "Gk9f7AbQPt29",
    "outputId": "5b0cd235-b920-4d6c-d772-e27d9226a518"
   },
   "outputs": [
    {
     "name": "stdout",
     "output_type": "stream",
     "text": [
      "🧠 Thinking...\n"
     ]
    },
    {
     "name": "stderr",
     "output_type": "stream",
     "text": [
      "ERROR:tornado.access:503 POST /v1beta/models/gemini-flash-latest:generateContent?%24alt=json%3Benum-encoding%3Dint (127.0.0.1) 5075.01ms\n"
     ]
    },
    {
     "name": "stdout",
     "output_type": "stream",
     "text": [
      "\n",
      "👤 Your Question: who is the author and what to do when surrounded by idiots?\n",
      "---------------------------------\n",
      "🤖 AI's Answer:\n",
      "The author is **Thomas Erikson**.\n",
      "\n",
      "Regarding what to do when surrounded by people who seem like idiots, the context advises that you should understand that they \"are, in fact, not idiots at all. Instead, they are individuals worthy of respect, understanding, and being valued.\"\n",
      "\n",
      "The book's goal is to provide practical advice in communicating effectively with the different types (Red, Yellow, Green, and Blue). If you don’t understand and use the frameworks and principles outlined in the book, you will \"continue to be surrounded by idiots.\"\n"
     ]
    }
   ],
   "source": [
    "# Cell 4: Ask a Question Directly (No Chatbot)\n",
    "\n",
    "def get_rag_response(query):\n",
    "    \"\"\"Simplified RAG function that takes a string query.\"\"\"\n",
    "    if not faiss_index or not text_chunks:\n",
    "        return \"Error: Document not processed. Please run the cells above first.\"\n",
    "\n",
    "    # 1. Embed query and search index\n",
    "    query_vec = embedding_model.encode([query]).astype('float32')\n",
    "    distances, indices = faiss_index.search(query_vec, k=5)\n",
    "    retrieved_chunks = [text_chunks[i] for i in indices[0]]\n",
    "    context = \"\\n\\n---\\n\\n\".join(retrieved_chunks)\n",
    "\n",
    "    # 2. Create prompt and get model response\n",
    "    prompt = f\"\"\"\n",
    "    Answer the user's question based ONLY on the following context:\n",
    "    CONTEXT:\n",
    "    {context}\n",
    "\n",
    "    QUESTION:\n",
    "    {query}\n",
    "    \"\"\"\n",
    "    try:\n",
    "        response = model_gen.generate_content(prompt)\n",
    "        return response.text\n",
    "    except Exception as e:\n",
    "        return f\"An error occurred: {e}\"\n",
    "\n",
    "# --- Ask your question here ---\n",
    "# Just change the text in this variable and run the cell again.\n",
    "my_question = \"who is the author and what to do when surrounded by idiots?\"\n",
    "\n",
    "# --- Get and print the response ---\n",
    "print(\"🧠 Thinking...\")\n",
    "answer = get_rag_response(my_question)\n",
    "\n",
    "print(f\"\\n👤 Your Question: {my_question}\")\n",
    "print(\"---------------------------------\")\n",
    "print(f\"🤖 AI's Answer:\\n{answer}\")"
   ]
  }
 ],
 "metadata": {
  "colab": {
   "provenance": []
  },
  "kernelspec": {
   "display_name": "Python 3",
   "name": "python3"
  },
  "language_info": {
   "name": "python"
  }
 },
 "nbformat": 4,
 "nbformat_minor": 0
}
